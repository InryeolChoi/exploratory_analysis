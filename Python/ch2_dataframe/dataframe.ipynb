{
 "cells": [
  {
   "cell_type": "markdown",
   "metadata": {},
   "source": [
    "# dataframe\n",
    "**Author**: inryeol\n",
    "**Date**: 2024-08-04"
   ]
  },
  {
   "cell_type": "markdown",
   "metadata": {},
   "source": [
    "# 데이터프레임\n",
    "\n",
    "-   데이터프레임 = R언어에서 가장 중요한 자료구조\n",
    "\n",
    "    -   리스트 + 행렬\n",
    "\n",
    "-   one observation per row\n",
    "\n",
    "-   ‘[ ]’ 기호나 ‘$’ 기호를 사용해서 접근한다.\n",
    "\n",
    "    `data1$ID = datat1[, 1]`"
   ]
  },
  {
   "cell_type": "markdown",
   "metadata": {},
   "source": [
    "## 예시 데이터 : chicago\n",
    "\n",
    "-   공기오염과 온도에 대한 데이터셋\n",
    "-   RDS 형식의 파일로 되어있다."
   ]
  },
  {
   "cell_type": "code",
   "execution_count": null,
   "metadata": {},
   "outputs": [],
   "source": [
    "import pandas as pd\n",
    "import numpy as np\n",
    "import rpy2.robjects as robjects\n",
    "from rpy2.robjects import pandas2ri"
   ]
  },
  {
   "cell_type": "code",
   "execution_count": null,
   "metadata": {},
   "outputs": [],
   "source": [
    "# R의 데이터를 pandas DataFrame으로 변환 가능하도록 활성화\n",
    "pandas2ri.activate()\n",
    "\n",
    "# RDS 파일을 읽어오기\n",
    "rds_file_path = \"../../dataset/chicago.rds\"\n",
    "readRDS = robjects.r['readRDS']\n",
    "chicago = readRDS(rds_file_path)\n",
    "\n",
    "# R DataFrame을 pandas DataFrame으로 변환\n",
    "chicago_df = pandas2ri.rpy2py(chicago)\n",
    "\n",
    "# 데이터 확인\n",
    "print(chicago_df.head())"
   ]
  },
  {
   "cell_type": "markdown",
   "metadata": {},
   "source": [
    "# 데이터프레임 다루기 - 1\n",
    "\n",
    "-   dplyr 패키지 없이 자체적인 실력을 기르는 것을 목표로 한다.\n",
    "-   익숙해질 때까지 반복!"
   ]
  },
  {
   "cell_type": "markdown",
   "metadata": {},
   "source": [
    "## 1. 훓어보기\n",
    "\n",
    "### dim()과 str()"
   ]
  },
  {
   "cell_type": "code",
   "execution_count": null,
   "metadata": {},
   "outputs": [],
   "source": [
    "# 데이터프레임의 차원과 구조 확인\n",
    "chicago = pd.DataFrame()  # 예시를 위한 빈 데이터프레임 생성\n",
    "print(chicago.shape)  # dim() 대신 shape 사용\n",
    "print(chicago.info())  # str() 대신 info() 사용"
   ]
  },
  {
   "cell_type": "markdown",
   "metadata": {},
   "source": [
    "```{r}\n",
    "# head()와 tail()\n",
    "head(chicago, 3) # 앞에만 보기\n",
    "tail(chicago, 5) # 뒤에만 보기\n",
    "```"
   ]
  },
  {
   "cell_type": "code",
   "execution_count": null,
   "metadata": {},
   "outputs": [],
   "source": [
    "# head()와 tail()로 데이터 일부 확인\n",
    "print(chicago.head(3))  # head() 사용\n",
    "print(chicago.tail(5))  # tail() 사용"
   ]
  },
  {
   "cell_type": "markdown",
   "metadata": {},
   "source": [
    "## 2. 변수 고르기\n",
    "\n",
    "chicago 데이터로 다음 두 결과를 만들어보자."
   ]
  },
  {
   "cell_type": "code",
   "execution_count": null,
   "metadata": {},
   "outputs": [],
   "source": [
    "# 우선 순서대로 변수 이름을 본다.\n",
    "print(chicago.columns)\n",
    "\n",
    "# subset()과 select()를 응용해 뽑는다.\n",
    "print(chicago.iloc[:, 0:3].head(6))"
   ]
  },
  {
   "cell_type": "code",
   "execution_count": null,
   "metadata": {},
   "outputs": [],
   "source": [
    "# 첫 번째 결과\n",
    "print(chicago.iloc[:, 3:].head(6))\n",
    "\n",
    "# 두 번째 결과\n",
    "print(chicago.drop(chicago.columns[0:3], axis=1).head(6))"
   ]
  },
  {
   "cell_type": "markdown",
   "metadata": {},
   "source": [
    "## 3. 필터링 & 순서 맞추기\n",
    "\n",
    "### 1번) 2로 끝나는 변수들만 보기."
   ]
  },
  {
   "cell_type": "code",
   "execution_count": null,
   "metadata": {},
   "outputs": [],
   "source": [
    "# 2로 끝나는 변수들만 필터링\n",
    "print(chicago.filter(regex='2$').head())"
   ]
  },
  {
   "cell_type": "markdown",
   "metadata": {},
   "source": [
    "### 2번) d로 시작하는 변수들만 보기"
   ]
  },
  {
   "cell_type": "code",
   "execution_count": null,
   "metadata": {},
   "outputs": [],
   "source": [
    "# d로 시작하는 변수들만 필터링\n",
    "print(chicago.filter(regex='^d').head())"
   ]
  },
  {
   "cell_type": "markdown",
   "metadata": {},
   "source": [
    "### 3번) 숫자가 포함된 변수들 보기 (자체)"
   ]
  },
  {
   "cell_type": "code",
   "execution_count": null,
   "metadata": {},
   "outputs": [],
   "source": [
    "# 숫자가 포함된 변수들만 필터링\n",
    "print(chicago.filter(regex='[1-9]').head())"
   ]
  },
  {
   "cell_type": "markdown",
   "metadata": {},
   "source": [
    "### 4번) 대문자가 포함된 변수들 보기 (자체)"
   ]
  },
  {
   "cell_type": "code",
   "execution_count": null,
   "metadata": {},
   "outputs": [],
   "source": [
    "# 대문자가 포함된 변수들만 필터링\n",
    "print(chicago.filter(regex='[A-Z]').head())"
   ]
  },
  {
   "cell_type": "markdown",
   "metadata": {},
   "source": [
    "## **필터링**: 조건에 맞는 변수 고르기\n",
    "\n",
    "### **문제1** : 변수 PM2.5가 30보다 큰 chicago의 row 뽑고, summary 내기"
   ]
  },
  {
   "cell_type": "code",
   "execution_count": null,
   "metadata": {},
   "outputs": [],
   "source": [
    "# 조건에 넣을 이름 찾기\n",
    "print(chicago.columns)\n",
    "\n",
    "# 조건을 건다. 조건 자체는 열 데이터.\n",
    "chic_f = chicago[(chicago['pm25'] < 100) & (chicago['pm25'].notna())]\n",
    "\n",
    "# summary\n",
    "print(chic_f['pm25tmean2'].describe())"
   ]
  },
  {
   "cell_type": "markdown",
   "metadata": {},
   "source": [
    "### **문제2** : 변수 PM2.5가 30보다 크고, 변수 tmpd가 80보다 큰 chicago의 row 뽑기"
   ]
  },
  {
   "cell_type": "code",
   "execution_count": null,
   "metadata": {},
   "outputs": [],
   "source": [
    "# 조건을 2개 걸기 = 괄호 2개 사이에 & 기호를 넣는다.\n",
    "filtered_data = chicago[(chicago['pm25tmean2'] > 30) & (chicago['tmpd'] > 80)]\n",
    "print(filtered_data)"
   ]
  },
  {
   "cell_type": "markdown",
   "metadata": {},
   "source": [
    "## **순서 맞추기** : 오름차순/내림차순\n",
    "\n",
    "### 문제 ****: 날짜 순서에 따라 데이터 맞추기. 힌트: `order()`"
   ]
  },
  {
   "cell_type": "code",
   "execution_count": null,
   "metadata": {},
   "outputs": [],
   "source": [
    "# 날짜 데이터의 순서 맞추기 : order() 함수 사용\n",
    "chic_o3 = chicago.sort_values('date', ascending=False)\n",
    "print(chic_o3[['date', 'pm25tmean2']].head())"
   ]
  }
 ],
 "metadata": {
  "kernelspec": {
   "display_name": "myenv",
   "language": "python",
   "name": "python3"
  },
  "language_info": {
   "codemirror_mode": {
    "name": "ipython",
    "version": 3
   },
   "file_extension": ".py",
   "mimetype": "text/x-python",
   "name": "python",
   "nbconvert_exporter": "python",
   "pygments_lexer": "ipython3",
   "version": "3.12.4"
  }
 },
 "nbformat": 4,
 "nbformat_minor": 2
}
