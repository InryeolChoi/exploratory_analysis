{
 "cells": [
  {
   "cell_type": "markdown",
   "metadata": {},
   "source": [
    "# files\n",
    "**Author**: inryeol\n",
    "**Date**: 2024-08-04"
   ]
  },
  {
   "cell_type": "code",
   "execution_count": 5,
   "metadata": {
    "collapsed": false
   },
   "outputs": [],
   "source": [
    "import os\n",
    "import pandas as pd\n",
    "import numpy as np\n",
    "import matplotlib.pyplot as plt"
   ]
  },
  {
   "cell_type": "markdown",
   "metadata": {},
   "source": [
    "# 파일 불러오기"
   ]
  },
  {
   "cell_type": "markdown",
   "metadata": {},
   "source": [
    "## read 계열 함수\n",
    "\n",
    "-   보통 대부분의 파일을 이를 통해서 불러들인다.\n",
    "-   다음과 같은 두 가지 함수가 존재한다."
   ]
  },
  {
   "cell_type": "code",
   "execution_count": null,
   "metadata": {
    "collapsed": false
   },
   "outputs": [],
   "source": [
    "# CSV 파일 읽기\n",
    "data = pd.read_csv(\"abcde.csv\", sep=\"\")\n",
    "\n",
    "# TXT 파일 읽기\n",
    "data2 = pd.read_table(\"abcde.txt\", sep=\"\\t\", header=0)\n",
    "data3 = pd.read_table(\"abcde.txt\", na_values=[\"NA\"])"
   ]
  },
  {
   "cell_type": "markdown",
   "metadata": {},
   "source": [
    "-   `sep = “,”` : 구분자.\n",
    "-   `header = T` : 첫번째 행이 변수명인지 판단\n",
    "    -   csv에서는 True\n",
    "    -   table에서는 False\n",
    "-   `na.string = “A”` : na로 처리된 데이터를 “A”로 변환\n",
    "    -   시스템적 결측치 등을 처리할 때 편하다.\n",
    "-   `skip = n` : n번째 행을 날리고 변수로 처리\n",
    "-   `colClasses =` : 변수의 class를 임의로 다 지정\n",
    "    -   class가 잘 맞지 않을 때 조정"
   ]
  },
  {
   "cell_type": "markdown",
   "metadata": {},
   "source": [
    "## RDS 파일 불러오기\n",
    "\n",
    "-   r언어 고유의 데이터 확장자인 .rds를 불러올 때 쓰는 방법이다."
   ]
  },
  {
   "cell_type": "code",
   "execution_count": null,
   "metadata": {
    "collapsed": false
   },
   "outputs": [],
   "source": [
    "# RDS 파일 읽기\n",
    "# Python에서는 pickle을 사용하여 R의 RDS 파일과 유사한 형식으로 데이터를 저장하고 읽을 수 있습니다.\n",
    "import pickle\n",
    "\n",
    "# 읽기 예제\n",
    "# with open('filename.pkl', 'rb') as file:\n",
    "#     data = pickle.load(file)"
   ]
  },
  {
   "cell_type": "markdown",
   "metadata": {},
   "source": [
    "## 엑셀 파일 불러오기\n",
    "\n",
    "-   엑셀 파일은 R언어에서 잘 지원하지 않음. 즉 새로운 패키지를 써야한다."
   ]
  },
  {
   "cell_type": "code",
   "execution_count": null,
   "metadata": {
    "collapsed": false
   },
   "outputs": [],
   "source": [
    "# 엑셀 파일 읽기\n",
    "import openpyxl\n",
    "from pandas import read_excel\n",
    "\n",
    "tmp3 = read_excel(\"abced.xlsx\", sheet_name=1)"
   ]
  },
  {
   "cell_type": "markdown",
   "metadata": {},
   "source": [
    "# 파일 저장"
   ]
  },
  {
   "cell_type": "markdown",
   "metadata": {},
   "source": [
    "## RData 파일 저장 & 불러오기"
   ]
  },
  {
   "cell_type": "code",
   "execution_count": null,
   "metadata": {
    "collapsed": false
   },
   "outputs": [],
   "source": [
    "# RData에 해당하는 .pkl 파일 저장 및 불러오기\n",
    "with open('abcde.pkl', 'wb') as file:\n",
    "    pickle.dump(tmp3, file)\n",
    "\n",
    "# 데이터 불러오기\n",
    "with open('abcde.pkl', 'rb') as file:\n",
    "    loaded_data = pickle.load(file)"
   ]
  },
  {
   "cell_type": "markdown",
   "metadata": {},
   "source": [
    "-   `save()` : 내가 원하는 데이터만 저장\n",
    "-   `save.image()` : 모든 데이터를 저장\n",
    "    -   단, 사이즈가 커진다.\n",
    "-   `load()` : RData 파일 불러오기"
   ]
  },
  {
   "cell_type": "markdown",
   "metadata": {},
   "source": [
    "## 내보내기"
   ]
  },
  {
   "cell_type": "code",
   "execution_count": null,
   "metadata": {
    "collapsed": false
   },
   "outputs": [],
   "source": [
    "# CSV 파일로 내보내기\n",
    "example.to_csv(\"pm25_summary.csv\")"
   ]
  },
  {
   "cell_type": "markdown",
   "metadata": {},
   "source": [
    "## 그림 저장하기"
   ]
  },
  {
   "cell_type": "code",
   "execution_count": null,
   "metadata": {
    "collapsed": false
   },
   "outputs": [],
   "source": [
    "# 그림 저장하기\n",
    "plt.figure(figsize=(9.6, 9.6))\n",
    "plt.plot(range(1,11), range(1,11), 'ro')\n",
    "plt.savefig(\"example_plot.png\")\n",
    "plt.close()"
   ]
  },
  {
   "cell_type": "markdown",
   "metadata": {},
   "source": [
    "-   내가 만든 코드의 결과 = 항상 같아야 한다!! (reproducibility)"
   ]
  }
 ],
 "metadata": {
  "kernelspec": {
   "display_name": "Python 3",
   "language": "python",
   "name": "python3"
  },
  "language_info": {
   "codemirror_mode": {
    "name": "ipython",
    "version": 3
   },
   "file_extension": ".py",
   "mimetype": "text/x-python",
   "name": "python",
   "nbconvert_exporter": "python",
   "pygments_lexer": "ipython3",
   "version": "3.12.4"
  }
 },
 "nbformat": 4,
 "nbformat_minor": 4
}
