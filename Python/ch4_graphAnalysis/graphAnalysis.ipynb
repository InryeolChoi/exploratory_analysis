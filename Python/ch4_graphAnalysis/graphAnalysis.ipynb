{
 "cells": [
  {
   "cell_type": "markdown",
   "metadata": {},
   "source": [
    "# Graph Analysis\n",
    "Author: inryeol\n",
    "Date: 2024-08-05\n",
    "\n",
    "그래프를 통한 탐색적 자료분석을 진행해보자."
   ]
  },
  {
   "cell_type": "code",
   "execution_count": null,
   "metadata": {},
   "outputs": [],
   "source": [
    "# Remove all objects from the environment\n",
    "%reset -f"
   ]
  },
  {
   "cell_type": "code",
   "execution_count": null,
   "metadata": {},
   "outputs": [],
   "source": [
    "import pandas as pd\n",
    "import seaborn as sns\n",
    "import matplotlib.pyplot as plt"
   ]
  },
  {
   "cell_type": "markdown",
   "metadata": {},
   "source": [
    "# 변수 가져오기\n",
    "\n",
    "1.  변수 이름 : pollution\n",
    "2.  변수들의 타입 지정하기 (순서대로)\n",
    "   - numeric, character, factor, numeric, numeric"
   ]
  },
  {
   "cell_type": "code",
   "execution_count": null,
   "metadata": {},
   "outputs": [],
   "source": [
    "pollution = pd.read_csv('../../dataset/avgpm25.csv', dtype={\n",
    "    'column1': float,       # Replace 'column1' with the actual column name\n",
    "    'column2': str,         # Replace 'column2' with the actual column name\n",
    "    'column3': 'category',  # Replace 'column3' with the actual column name\n",
    "    'column4': float,       # Replace 'column4' with the actual column name\n",
    "    'column5': float        # Replace 'column5' with the actual column name\n",
    "})"
   ]
  },
  {
   "cell_type": "markdown",
   "metadata": {},
   "source": [
    "> 이후 구조를 확인한다."
   ]
  },
  {
   "cell_type": "code",
   "execution_count": null,
   "metadata": {},
   "outputs": [],
   "source": [
    "# Display the first few rows and the structure of the dataframe\n",
    "print(pollution.head())\n",
    "print(pollution.info())"
   ]
  },
  {
   "cell_type": "markdown",
   "metadata": {},
   "source": [
    "# 1차원 그래프\n",
    "## 요약통계량"
   ]
  },
  {
   "cell_type": "code",
   "execution_count": null,
   "metadata": {},
   "outputs": [],
   "source": [
    "# Summary statistics for the pm25 column\n",
    "print(pollution['pm25'].describe())"
   ]
  },
  {
   "cell_type": "markdown",
   "metadata": {},
   "source": [
    "결과\n",
    "\n",
    "-   크게 기울지는 않았다.\n",
    "-   상당수가 12를 넘고 있다."
   ]
  },
  {
   "cell_type": "markdown",
   "metadata": {},
   "source": [
    "## boxplot\n",
    "\n",
    "> pollution 중 pm25의 Boxplot을 보자."
   ]
  },
  {
   "cell_type": "code",
   "execution_count": null,
   "metadata": {},
   "outputs": [],
   "source": [
    "import matplotlib.pyplot as plt\n",
    "\n",
    "plt.boxplot(pollution['pm25'])\n",
    "plt.title('Boxplot of PM2.5')\n",
    "plt.show()"
   ]
  },
  {
   "cell_type": "markdown",
   "metadata": {},
   "source": [
    "-   여기서 5와 15를 콧수염(whiskers)이라고 한다.\n",
    "-   IQR = 사분위간 범위 = (3사분위수) - (1사분위수) = (전체 자료의 중간값)\n",
    "-   whiskers를 벗어나는 경우를 이상치(outlier)로 볼 수 있나?\n",
    "    -   꼭 그렇지는 않다. 다만 평균에서 먼 자료 정도로 보면 된다."
   ]
  },
  {
   "cell_type": "markdown",
   "metadata": {},
   "source": [
    "> pm25가 15보다 큰 케이스를 살펴보자."
   ]
  },
  {
   "cell_type": "code",
   "execution_count": null,
   "metadata": {},
   "outputs": [],
   "source": [
    "# Method 1: Display the first few values of pm25 greater than 15\n",
    "print(pollution[pollution['pm25'] > 15].head())\n",
    "\n",
    "# Method 2: Subset of the dataframe where pm25 is greater than 15\n",
    "print(pollution[pollution['pm25'] > 15])\n",
    "\n",
    "# Method 3: Display the first 8 rows where pm25 is greater than 15\n",
    "print(pollution[pollution['pm25'] > 15].head(8))"
   ]
  },
  {
   "cell_type": "markdown",
   "metadata": {},
   "source": [
    "-   지역은 전부 서부라고 나온다.\n",
    "-   west이면서 fips 코드 앞자리가 06인 곳 : 캘리포니아"
   ]
  },
  {
   "cell_type": "markdown",
   "metadata": {},
   "source": [
    "## Histogram\n",
    "\n",
    "pm25의 히스토그램을 한번 보자.\n",
    "\n",
    "breaks=100으로 해서 잘게 짜르고, 밀집도를 볼 수 있게 한다.\n"
   ]
  },
  {
   "cell_type": "code",
   "execution_count": null,
   "metadata": {},
   "outputs": [],
   "source": [
    "# Plot histogram with 100 bins and density plot\n",
    "plt.hist(pollution['pm25'], bins=100, color='green', density=True)\n",
    "plt.title('Histogram of PM2.5')\n",
    "plt.show()"
   ]
  },
  {
   "cell_type": "markdown",
   "metadata": {},
   "source": [
    "## Low-level Graphics\n",
    "\n",
    "그래프 위에 무언가를 씌울 때 사용한다.\n",
    "\n",
    "주로 선을 그려 중위수나 기준을 표기한다."
   ]
  },
  {
   "cell_type": "markdown",
   "metadata": {},
   "source": [
    "### Example 1\n",
    "pm25의 histogram. 기준선1을 10에, 기준선2를 12에 그려준다."
   ]
  },
  {
   "cell_type": "code",
   "execution_count": null,
   "metadata": {},
   "outputs": [],
   "source": [
    "# Histogram with vertical lines for threshold\n",
    "plt.hist(pollution['pm25'], color='green')\n",
    "plt.axvline(x=12, color='red', linewidth=2, linestyle='--')\n",
    "plt.axvline(x=pollution['pm25'].median(), color='blue', linewidth=4)\n",
    "plt.title('Histogram of PM2.5 with Median and Threshold')\n",
    "plt.show()"
   ]
  },
  {
   "cell_type": "markdown",
   "metadata": {},
   "source": [
    "### Example 2\n",
    "\n",
    "pm25의 boxplot. 기준선을 파란색으로, y=12에 그려준다."
   ]
  },
  {
   "cell_type": "code",
   "execution_count": null,
   "metadata": {},
   "outputs": [],
   "source": [
    "# Boxplot with horizontal line for threshold\n",
    "plt.boxplot(pollution['pm25'])\n",
    "plt.axhline(y=12, color='red', linestyle='--')\n",
    "plt.title('Boxplot of PM2.5 with Threshold Line')\n",
    "plt.show()"
   ]
  },
  {
   "cell_type": "markdown",
   "metadata": {},
   "source": [
    "## Barplot\n",
    "\n",
    "범주형 자료(categorical data)를 정리할 때 좋다.\n",
    "\n",
    "먼저 table을 써서 정리를 한 다음, barplot을 그려준다."
   ]
  },
  {
   "cell_type": "code",
   "execution_count": null,
   "metadata": {},
   "outputs": [],
   "source": [
    "# Barplot of the region variable\n",
    "pollution['region'].value_counts().plot(kind='bar', color='wheat')\n",
    "plt.title('Barplot of Region')\n",
    "plt.show()"
   ]
  },
  {
   "cell_type": "markdown",
   "metadata": {},
   "source": [
    "**west와 east의 순서를 바꾸고 싶다면?**\n",
    "-   factor를 다시 지정해야 한다."
   ]
  },
  {
   "cell_type": "code",
   "execution_count": null,
   "metadata": {},
   "outputs": [],
   "source": [
    "# Reorder the factor levels\n",
    "pollution['region'] = pd.Categorical(pollution['region'], categories=['west', 'east'], ordered=True)\n",
    "\n",
    "# Create the barplot\n",
    "pollution['region'].value_counts().plot(kind='bar', color='purple')\n",
    "\n",
    "plt.title('Barplot of Region with Reordered Categories')\n",
    "plt.xlabel('Region')\n",
    "plt.ylabel('Count')\n",
    "plt.show()"
   ]
  },
  {
   "cell_type": "markdown",
   "metadata": {},
   "source": [
    "# 2차원 그래픽\n",
    "\n",
    "## 다차원 boxplot\n",
    "\n",
    "> 지역별 pm2.5을 도출해보자."
   ]
  },
  {
   "cell_type": "code",
   "execution_count": null,
   "metadata": {},
   "outputs": [],
   "source": [
    "plt.figure(figsize=(8, 6))\n",
    "sns.boxplot(x='region', y='pm25', data=pollution, palette='Reds')\n",
    "\n",
    "plt.title('Boxplot of PM2.5 by Region')\n",
    "plt.xlabel('Region')\n",
    "plt.ylabel('PM2.5')\n",
    "plt.show()"
   ]
  },
  {
   "cell_type": "markdown",
   "metadata": {},
   "source": [
    "## 다차원 histogram\n",
    "\n",
    "> 지역별 pm2.5의 수치를 구해보자."
   ]
  },
  {
   "cell_type": "code",
   "execution_count": null,
   "metadata": {},
   "outputs": [],
   "source": [
    "plt.figure(figsize=(8, 6))\n",
    "sns.boxplot(x='region', y='pm25', data=pollution, palette='Reds')\n",
    "\n",
    "plt.title('Boxplot of PM2.5 by Region')\n",
    "plt.xlabel('Region')\n",
    "plt.ylabel('PM2.5')\n",
    "plt.show()"
   ]
  },
  {
   "cell_type": "markdown",
   "metadata": {},
   "source": [
    "## Scatterplot\n",
    "\n",
    "> latitude에 따른 pm2.5를 구해보자."
   ]
  },
  {
   "cell_type": "code",
   "execution_count": null,
   "metadata": {},
   "outputs": [],
   "source": [
    "# Scatter plot of pm25 versus latitude\n",
    "plt.figure(figsize=(8, 6))\n",
    "plt.scatter(pollution['latitude'], pollution['pm25'], alpha=0.5)\n",
    "\n",
    "# Adding horizontal line at y=12\n",
    "plt.axhline(y=12, color='red', linestyle='--')\n",
    "\n",
    "# Setting labels and title\n",
    "plt.xlabel('Latitude')\n",
    "plt.ylabel('PM2.5')\n",
    "plt.title('Scatterplot of PM2.5 vs Latitude')\n",
    "\n",
    "# Display the plot\n",
    "plt.show()"
   ]
  },
  {
   "cell_type": "markdown",
   "metadata": {},
   "source": [
    "> **latitude에 따른 pm2.5. 색으로 region 구분해주기**"
   ]
  },
  {
   "cell_type": "code",
   "execution_count": null,
   "metadata": {},
   "outputs": [],
   "source": [
    "plt.figure(figsize=(8, 6))\n",
    "\n",
    "# Scatter plot of pm25 versus latitude with color coding by region\n",
    "sns.scatterplot(x='latitude', y='pm25', hue='region', data=pollution, palette='viridis', alpha=0.7)\n",
    "\n",
    "# Adding horizontal line at y=12\n",
    "plt.axhline(y=12, color='red', linestyle='--')\n",
    "\n",
    "# Setting labels and title\n",
    "plt.xlabel('Latitude')\n",
    "plt.ylabel('PM2.5')\n",
    "plt.title('Scatterplot of PM2.5 vs Latitude with Region Coloring')\n",
    "\n",
    "# Display the plot\n",
    "plt.legend(title='Region')\n",
    "plt.show()"
   ]
  },
  {
   "cell_type": "markdown",
   "metadata": {},
   "source": [
    "> 지역에 따른 구분. latitude별 pm25"
   ]
  },
  {
   "cell_type": "code",
   "execution_count": null,
   "metadata": {},
   "outputs": [],
   "source": [
    "plt.figure(figsize=(12, 6))\n",
    "\n",
    "# Plot for West region\n",
    "plt.subplot(1, 2, 1)\n",
    "sns.scatterplot(x='latitude', y='pm25', data=pollution[pollution['region'] == 'West'], color='blue', alpha=0.7)\n",
    "plt.title('West')\n",
    "plt.xlabel('Latitude')\n",
    "plt.ylabel('PM2.5')\n",
    "\n",
    "# Plot for East region\n",
    "plt.subplot(1, 2, 2)\n",
    "sns.scatterplot(x='latitude', y='pm25', data=pollution[pollution['region'] == 'East'], color='orange', alpha=0.7)\n",
    "plt.title('East')\n",
    "plt.xlabel('Latitude')\n",
    "plt.ylabel('PM2.5')\n",
    "\n",
    "# Adjust layout to prevent overlap\n",
    "plt.tight_layout()\n",
    "\n",
    "# Show the plots\n",
    "plt.show()"
   ]
  },
  {
   "cell_type": "code",
   "execution_count": null,
   "metadata": {},
   "outputs": [],
   "source": [
    "# Assuming 'pollution' is a DataFrame\n",
    "\n",
    "plt.figure(figsize=(12, 6))\n",
    "\n",
    "# Plot for West region\n",
    "plt.subplot(1, 2, 1)\n",
    "sns.scatterplot(x='latitude', y='pm25', data=pollution[pollution['region'] == 'west'], color='blue', alpha=0.7)\n",
    "plt.title('West')\n",
    "plt.xlabel('Latitude')\n",
    "plt.ylabel('PM2.5')\n",
    "\n",
    "# Plot for East region\n",
    "plt.subplot(1, 2, 2)\n",
    "sns.scatterplot(x='latitude', y='pm25', data=pollution[pollution['region'] == 'east'], color='orange', alpha=0.7)\n",
    "plt.title('East')\n",
    "plt.xlabel('Latitude')\n",
    "plt.ylabel('PM2.5')\n",
    "\n",
    "# Adjust layout to prevent overlap\n",
    "plt.tight_layout()\n",
    "\n",
    "# Show the plots\n",
    "plt.show()"
   ]
  },
  {
   "cell_type": "markdown",
   "metadata": {},
   "source": [
    "**tip : 여백을 지정할때 mar()을 사용한다.**"
   ]
  },
  {
   "cell_type": "markdown",
   "metadata": {},
   "source": [
    "# 그래픽용 도구\n",
    "\n",
    "여러 창을 한번에 띄울때는 다음과 같은 함수를 사용한다.\n",
    "\n",
    "-   `quartz()` : 맥에서 사용\n",
    "\n",
    "-   `windows()` : 윈도우에서 사용\n",
    "\n",
    "-   `x11()` : 리눅스에서 사용\n",
    "\n",
    "또한 pdf로 저장할 때는 다음과 같은 절차를 따른다.\n",
    "\n",
    "1.  `pdf()` 함수로 열어준다.\n",
    "\n",
    "2.  그래프를 편집한다.\n",
    "\n",
    "3.  `dev.off()`로 닫아준다. (닫아야 그래프 편집내용이 저장.)"
   ]
  }
 ],
 "metadata": {
  "kernelspec": {
   "display_name": "myenv",
   "language": "python",
   "name": "python3"
  },
  "language_info": {
   "codemirror_mode": {
    "name": "ipython",
    "version": 3
   },
   "file_extension": ".py",
   "mimetype": "text/x-python",
   "name": "python",
   "nbconvert_exporter": "python",
   "pygments_lexer": "ipython3",
   "version": "3.12.4"
  }
 },
 "nbformat": 4,
 "nbformat_minor": 2
}
