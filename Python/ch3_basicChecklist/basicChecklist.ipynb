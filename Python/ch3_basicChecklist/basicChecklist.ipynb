{
 "cells": [
  {
   "cell_type": "markdown",
   "metadata": {},
   "source": [
    "# checklist\n",
    "Author: inryeol\n",
    "Date: 2024-08-04"
   ]
  },
  {
   "cell_type": "code",
   "execution_count": 1,
   "metadata": {},
   "outputs": [],
   "source": [
    "# 초기 설정\n",
    "import pandas as pd\n",
    "import numpy as np"
   ]
  },
  {
   "cell_type": "code",
   "execution_count": null,
   "metadata": {},
   "outputs": [],
   "source": [
    "# 데이터를 처음부터 다시 설정\n",
    "# equivalent to rm(list=ls()) in R\n",
    "%reset -f"
   ]
  },
  {
   "cell_type": "code",
   "execution_count": null,
   "metadata": {
    "tags": []
   },
   "outputs": [],
   "source": [
    "# Options\n",
    "pd.options.display.max_rows = 10\n",
    "pd.options.display.float_format = '{:.2f}'.format"
   ]
  },
  {
   "cell_type": "markdown",
   "metadata": {},
   "source": [
    "# **예시 데이터와 질문**\n",
    "\n",
    "미국 환경부에서 따온 데이터를 가지고 질문 만들기\n",
    "\n",
    "-   어느 곳의 오염도가 더 심각한가? 동부 vs 서부\n",
    "\n",
    "좀 더 심도 있게 질문을 만든다면 다음과 같다.\n",
    "\n",
    "-   시간당 오존 레벨이 평균적으로 높은 곳은? 뉴욕 vs LA\n",
    "-   지역 ⇒ 대표성을 띄는 도시로 축소"
   ]
  },
  {
   "cell_type": "markdown",
   "metadata": {},
   "source": [
    "## 파일 불러오기"
   ]
  },
  {
   "cell_type": "code",
   "execution_count": null,
   "metadata": {},
   "outputs": [],
   "source": [
    "ozone = pd.read_csv('../../dataset/hourly_44201_2014_ver2.csv')\n",
    "ozone.columns = ozone.columns.str.replace(' ', '_')\n",
    "ozone.head()"
   ]
  },
  {
   "cell_type": "markdown",
   "metadata": {},
   "source": [
    "## 초기분석"
   ]
  },
  {
   "cell_type": "code",
   "execution_count": null,
   "metadata": {},
   "outputs": [],
   "source": [
    "ozone.shape"
   ]
  },
  {
   "cell_type": "code",
   "execution_count": null,
   "metadata": {},
   "outputs": [],
   "source": [
    "ozone.info()"
   ]
  },
  {
   "cell_type": "code",
   "execution_count": null,
   "metadata": {},
   "outputs": [],
   "source": [
    "ozone.head()"
   ]
  },
  {
   "cell_type": "code",
   "execution_count": null,
   "metadata": {},
   "outputs": [],
   "source": [
    "ozone.tail()"
   ]
  },
  {
   "cell_type": "markdown",
   "metadata": {},
   "source": [
    "## 결측값 보기\n",
    "\n",
    "-   샘플수에 대해서 민감해야 한다.\n",
    "-   샘플수가 30개 정도일때 missing이 있으면 값이 확확 줄어들 수 있다.\n",
    "\n",
    "미국의 hourly ozone data를 보자."
   ]
  },
  {
   "cell_type": "code",
   "execution_count": null,
   "metadata": {},
   "outputs": [],
   "source": [
    "ozone['Time_Local'].value_counts()"
   ]
  },
  {
   "cell_type": "markdown",
   "metadata": {},
   "source": [
    "미국의 주를 기준으로 분석한다고 할 때, 주가 아닌 것들이 있다. 주의 이름을 나열해 이들을 찾아보자."
   ]
  },
  {
   "cell_type": "code",
   "execution_count": null,
   "metadata": {},
   "outputs": [],
   "source": [
    "ozone['State_Name'].unique()"
   ]
  },
  {
   "cell_type": "markdown",
   "metadata": {},
   "source": [
    "## 이상치 확인\n",
    "\n",
    "데이터의 이상치 확인해보기."
   ]
  },
  {
   "cell_type": "code",
   "execution_count": null,
   "metadata": {},
   "outputs": [],
   "source": [
    "ozone['Sample_Measurement'].describe()"
   ]
  },
  {
   "cell_type": "code",
   "execution_count": null,
   "metadata": {},
   "outputs": [],
   "source": [
    "ozone['Sample_Measurement'].quantile(np.arange(0, 1.1, 0.1))"
   ]
  },
  {
   "cell_type": "markdown",
   "metadata": {},
   "source": [
    "## 조건 걸고 확인\n",
    "\n",
    "**오존 레벨 top 10인 지역들을 확인해보자.**"
   ]
  },
  {
   "cell_type": "code",
   "execution_count": null,
   "metadata": {},
   "outputs": [],
   "source": [
    "# aggregate 함수로 만들어주기\n",
    "ranking = ozone.groupby(['State_Name', 'County_Name'], as_index=False)['Sample_Measurement'].mean()\n",
    "ranking.columns = ['State_Name', 'County_Name', 'ozone']\n",
    "ranking = ranking.sort_values(by='ozone', ascending=False)\n",
    "ranking.head(10)"
   ]
  },
  {
   "cell_type": "markdown",
   "metadata": {},
   "source": [
    "**How many observations in California, Mariposa?**"
   ]
  },
  {
   "cell_type": "code",
   "execution_count": null,
   "metadata": {},
   "outputs": [],
   "source": [
    "mariposa_data = ozone[(ozone['State_Name'] == 'California') & \n",
    "                     (ozone['County_Name'] == 'Mariposa')]\n",
    "mariposa_data.shape[0]"
   ]
  },
  {
   "cell_type": "markdown",
   "metadata": {},
   "source": [
    "**시간 순으로 체크해보자.**"
   ]
  },
  {
   "cell_type": "code",
   "execution_count": null,
   "metadata": {},
   "outputs": [],
   "source": [
    "mariposa_data.pivot_table(index='Method_Name', columns='Time_Local', aggfunc='size', fill_value=0)"
   ]
  },
  {
   "cell_type": "markdown",
   "metadata": {},
   "source": [
    "**월별 오존농도를 체크해보자**"
   ]
  },
  {
   "cell_type": "code",
   "execution_count": null,
   "metadata": {},
   "outputs": [],
   "source": [
    "ozone['Date_Local'] = pd.to_datetime(ozone['Date_Local'])\n",
    "ozone['month'] = ozone['Date_Local'].dt.month_name()\n",
    "monthly_data = ozone.groupby('month', as_index=False)['Sample_Measurement'].mean()\n",
    "monthly_data.columns = ['month', 'ozone']\n",
    "monthly_data"
   ]
  },
  {
   "cell_type": "markdown",
   "metadata": {},
   "source": [
    "## Challenge Your Solution\n",
    "\n",
    "부트스트랩 샘플을 이용해 샘플을 뽑아나고, 새 ranking을 만들어보자."
   ]
  },
  {
   "cell_type": "code",
   "execution_count": null,
   "metadata": {},
   "outputs": [],
   "source": [
    "np.random.seed(10234)\n",
    "N = ozone.shape[0]\n",
    "idx = np.random.choice(N, N, replace=True)\n",
    "ozone2 = ozone.iloc[idx, :]"
   ]
  },
  {
   "cell_type": "markdown",
   "metadata": {},
   "source": [
    "이후 기존의 ranking과 새 ranking(ranking2)를 붙여보자."
   ]
  },
  {
   "cell_type": "code",
   "execution_count": null,
   "metadata": {},
   "outputs": [],
   "source": [
    "# ranking2 만들기\n",
    "ranking2 = ozone2.groupby(['State_Name', 'County_Name'], as_index=False)['Sample_Measurement'].mean()\n",
    "ranking2.columns = ['State_Name', 'County_Name', 'ozone']\n",
    "ranking2 = ranking2.sort_values(by='ozone', ascending=False)\n",
    "\n",
    "# ranking, ranking2 붙이고 확인\n",
    "pd.concat([ranking.head(10), ranking2.head(10)], axis=1)"
   ]
  },
  {
   "cell_type": "code",
   "execution_count": null,
   "metadata": {},
   "outputs": [],
   "source": [
    "pd.concat([ranking.tail(10), ranking2.tail(10)], axis=1)"
   ]
  }
 ],
 "metadata": {
  "kernelspec": {
   "display_name": "myenv",
   "language": "python",
   "name": "python3"
  },
  "language_info": {
   "codemirror_mode": {
    "name": "ipython",
    "version": 3
   },
   "file_extension": ".py",
   "mimetype": "text/x-python",
   "name": "python",
   "nbconvert_exporter": "python",
   "pygments_lexer": "ipython3",
   "version": "3.12.4"
  }
 },
 "nbformat": 4,
 "nbformat_minor": 2
}
